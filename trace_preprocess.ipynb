{
 "cells": [
  {
   "cell_type": "markdown",
   "metadata": {},
   "source": [
    "生成默认的trace文件格式"
   ]
  },
  {
   "cell_type": "code",
   "execution_count": 2,
   "metadata": {},
   "outputs": [],
   "source": [
    "from itertools import islice\n",
    "\n",
    "def create_dict(filename):\n",
    "    trace_list = []\n",
    "    with open(filename) as f:\n",
    "        for line in islice(f,1,None):\n",
    "            items = line.strip().split(',')\n",
    "            trace_list += items\n",
    "    trace_set = set(trace_list)\n",
    "    trace_set.add('UNK')\n",
    "    trace_set.add('EOS')\n",
    "    vocab_size = len(trace_set)\n",
    "\n",
    "    trace_dict = {}\n",
    "    for e, item in enumerate(trace_set):\n",
    "        trace_dict[item] = e\n",
    "    return trace_dict\n",
    "\n",
    "dic = create_dict(\"SHORT_SERVER-103.bt9.trace\")\n",
    "outfile = open('trace.txt', 'w')\n",
    "with open(\"SHORT_SERVER-103.bt9.trace\") as f:\n",
    "    word_list = []\n",
    "    for line in islice(f,1,None):\n",
    "        items = line.strip().split(',')\n",
    "        index = dic[items[0]]\n",
    "        outfile.write(str(index) + ' ' + items[1] + '\\n')\n",
    "outfile.close()"
   ]
  },
  {
   "cell_type": "markdown",
   "metadata": {},
   "source": [
    "把trace文件生成句子文件,每次读取length长度，然后合并成一句话"
   ]
  },
  {
   "cell_type": "code",
   "execution_count": 4,
   "metadata": {},
   "outputs": [
    {
     "ename": "IndexError",
     "evalue": "list index out of range",
     "output_type": "error",
     "traceback": [
      "\u001b[1;31m---------------------------------------------------------------------------\u001b[0m",
      "\u001b[1;31mIndexError\u001b[0m                                Traceback (most recent call last)",
      "\u001b[1;32m<ipython-input-4-c3704e36ce22>\u001b[0m in \u001b[0;36m<module>\u001b[1;34m()\u001b[0m\n\u001b[0;32m     11\u001b[0m     \u001b[0mtrace_file\u001b[0m\u001b[1;33m.\u001b[0m\u001b[0mclose\u001b[0m\u001b[1;33m(\u001b[0m\u001b[1;33m)\u001b[0m\u001b[1;33m\u001b[0m\u001b[0m\n\u001b[0;32m     12\u001b[0m \u001b[1;33m\u001b[0m\u001b[0m\n\u001b[1;32m---> 13\u001b[1;33m \u001b[0mtrace2sentence\u001b[0m\u001b[1;33m(\u001b[0m\u001b[1;34m'SHORT_SERVER-103.bt9.trace'\u001b[0m\u001b[1;33m,\u001b[0m \u001b[1;36m10\u001b[0m\u001b[1;33m)\u001b[0m\u001b[1;33m\u001b[0m\u001b[0m\n\u001b[0m",
      "\u001b[1;32m<ipython-input-4-c3704e36ce22>\u001b[0m in \u001b[0;36mtrace2sentence\u001b[1;34m(filename, length)\u001b[0m\n\u001b[0;32m      6\u001b[0m             \u001b[1;32mfor\u001b[0m \u001b[0mitems\u001b[0m \u001b[1;32min\u001b[0m \u001b[0mlines\u001b[0m\u001b[1;33m[\u001b[0m\u001b[0mnum\u001b[0m\u001b[1;33m:\u001b[0m\u001b[0mnum\u001b[0m\u001b[1;33m+\u001b[0m\u001b[0mlength\u001b[0m\u001b[1;33m]\u001b[0m\u001b[1;33m:\u001b[0m\u001b[1;33m\u001b[0m\u001b[0m\n\u001b[0;32m      7\u001b[0m                 \u001b[0mwords\u001b[0m \u001b[1;33m=\u001b[0m \u001b[0mitems\u001b[0m\u001b[1;33m.\u001b[0m\u001b[0mstrip\u001b[0m\u001b[1;33m(\u001b[0m\u001b[1;33m)\u001b[0m\u001b[1;33m.\u001b[0m\u001b[0msplit\u001b[0m\u001b[1;33m(\u001b[0m\u001b[1;33m)\u001b[0m\u001b[1;33m\u001b[0m\u001b[0m\n\u001b[1;32m----> 8\u001b[1;33m                 \u001b[0mword\u001b[0m \u001b[1;33m=\u001b[0m \u001b[0mwords\u001b[0m\u001b[1;33m[\u001b[0m\u001b[1;36m0\u001b[0m\u001b[1;33m]\u001b[0m \u001b[1;33m+\u001b[0m \u001b[0mwords\u001b[0m\u001b[1;33m[\u001b[0m\u001b[1;36m1\u001b[0m\u001b[1;33m]\u001b[0m\u001b[1;33m\u001b[0m\u001b[0m\n\u001b[0m\u001b[0;32m      9\u001b[0m                 \u001b[0mtrace_file\u001b[0m\u001b[1;33m.\u001b[0m\u001b[0mwrite\u001b[0m\u001b[1;33m(\u001b[0m\u001b[0mword\u001b[0m \u001b[1;33m+\u001b[0m \u001b[1;34m' '\u001b[0m\u001b[1;33m)\u001b[0m\u001b[1;33m\u001b[0m\u001b[0m\n\u001b[0;32m     10\u001b[0m             \u001b[0mtrace_file\u001b[0m\u001b[1;33m.\u001b[0m\u001b[0mwrite\u001b[0m\u001b[1;33m(\u001b[0m\u001b[1;34m'\\n'\u001b[0m\u001b[1;33m)\u001b[0m\u001b[1;33m\u001b[0m\u001b[0m\n",
      "\u001b[1;31mIndexError\u001b[0m: list index out of range"
     ]
    }
   ],
   "source": [
    "def trace2sentence(filename, length):\n",
    "    trace_file = open(\"trace_file.txt\", 'w')\n",
    "    with open(filename) as f:\n",
    "        lines = f.readlines()\n",
    "        for num in range(len(lines)-length+1):\n",
    "            for items in lines[num:num+length]:\n",
    "                words = items.strip().split()\n",
    "                word = words[0] + words[1]\n",
    "                trace_file.write(word + ' ')\n",
    "            trace_file.write('\\n')\n",
    "    trace_file.close()\n",
    "    \n",
    "trace2sentence('trace.txt', 10)"
   ]
  },
  {
   "cell_type": "markdown",
   "metadata": {},
   "source": [
    "训练集，验证集，测试集分割"
   ]
  },
  {
   "cell_type": "code",
   "execution_count": 40,
   "metadata": {},
   "outputs": [],
   "source": [
    "def split_dataset(filename):\n",
    "    train_file = open(\"train.txt\",'w')\n",
    "    dev_file = open(\"dev.txt\", 'w')\n",
    "    test_file = open(\"test.txt\", 'w')\n",
    "    with open(filename) as f:\n",
    "        lines = f.readlines()\n",
    "        num_lines =len(lines)\n",
    "        train_num = int(0.8 * num_lines)\n",
    "        dev_num = int(0.1 * num_lines)\n",
    "        test_num = num_lines -train_num - dev_num\n",
    "        for line in lines[0:train_num+1]:\n",
    "            train_file.write(line)\n",
    "        for line in lines[train_num+1: train_num + dev_num + 1]:\n",
    "            dev_file.write(line)\n",
    "        for line in lines[train_num + dev_num + 1: num_lines + 1]:\n",
    "            test_file.write(line)\n",
    "    train_file.close()\n",
    "    dev_file.close()\n",
    "    test_file.close()\n",
    "    \n",
    "split_dataset(\"trace_file.txt\")"
   ]
  },
  {
   "cell_type": "markdown",
   "metadata": {},
   "source": [
    "## 正式代码"
   ]
  },
  {
   "cell_type": "markdown",
   "metadata": {},
   "source": [
    "把raw的trace文件转换成句子文件"
   ]
  },
  {
   "cell_type": "code",
   "execution_count": 9,
   "metadata": {},
   "outputs": [],
   "source": [
    "def trace2sentence(filename, window_length):\n",
    "    trace_file = open(\"D:/tensorflow/Branch_Prediction/RNN_Branch_prediction/data/trace/trace_file.txt\", 'w')\n",
    "    with open(filename) as f:\n",
    "        lines = f.readlines()\n",
    "        for num in range(len(lines)-window_length+1):\n",
    "            for items in lines[num:num+window_length]:\n",
    "                words = items.strip().split(',')\n",
    "                word = words[0] + words[1]\n",
    "                trace_file.write(word + ' ')\n",
    "            trace_file.write('\\n')\n",
    "    trace_file.close()\n",
    "    \n",
    "trace2sentence('SHORT_SERVER-103.bt9.trace', 5)"
   ]
  },
  {
   "cell_type": "markdown",
   "metadata": {},
   "source": [
    "分割训练集，验证集，测试集"
   ]
  },
  {
   "cell_type": "code",
   "execution_count": 10,
   "metadata": {},
   "outputs": [],
   "source": [
    "def split_dataset(filename, percent):\n",
    "    train_file = open(\"D:/tensorflow/Branch_Prediction/RNN_Branch_prediction/data/trace/train.txt\",'w')\n",
    "    dev_file = open(\"D:/tensorflow/Branch_Prediction/RNN_Branch_prediction/data/trace/dev.txt\", 'w')\n",
    "    test_file = open(\"D:/tensorflow/Branch_Prediction/RNN_Branch_prediction/data/trace/test.txt\", 'w')\n",
    "    with open(filename) as f:\n",
    "        lines = f.readlines()\n",
    "        num_lines = int(percent * len(lines))\n",
    "        train_num = int(0.8 * num_lines)\n",
    "        dev_num = int(0.1 * num_lines)\n",
    "        test_num = num_lines -train_num - dev_num\n",
    "        for line in lines[0:train_num+1]:\n",
    "            train_file.write(line)\n",
    "        for line in lines[train_num+1: train_num + dev_num + 1]:\n",
    "            dev_file.write(line)\n",
    "        for line in lines[train_num + dev_num + 1: num_lines + 1]:\n",
    "            test_file.write(line)\n",
    "    train_file.close()\n",
    "    dev_file.close()\n",
    "    test_file.close()\n",
    "    \n",
    "split_dataset(\"trace_file.txt\", 0.5)"
   ]
  },
  {
   "cell_type": "code",
   "execution_count": 9,
   "metadata": {},
   "outputs": [],
   "source": []
  },
  {
   "cell_type": "code",
   "execution_count": null,
   "metadata": {},
   "outputs": [],
   "source": []
  }
 ],
 "metadata": {
  "kernelspec": {
   "display_name": "Python 3",
   "language": "python",
   "name": "python3"
  },
  "language_info": {
   "codemirror_mode": {
    "name": "ipython",
    "version": 3
   },
   "file_extension": ".py",
   "mimetype": "text/x-python",
   "name": "python",
   "nbconvert_exporter": "python",
   "pygments_lexer": "ipython3",
   "version": "3.5.5"
  }
 },
 "nbformat": 4,
 "nbformat_minor": 2
}
